{
 "cells": [
  {
   "cell_type": "code",
   "execution_count": 1,
   "id": "ca3a43b4",
   "metadata": {
    "ExecuteTime": {
     "end_time": "2022-03-05T05:18:30.363241Z",
     "start_time": "2022-03-05T05:18:29.933Z"
    }
   },
   "outputs": [],
   "source": [
    "library(ggplot2)\n",
    "theme_set(theme_minimal())"
   ]
  },
  {
   "cell_type": "code",
   "execution_count": 7,
   "id": "71bf4dcb",
   "metadata": {
    "ExecuteTime": {
     "end_time": "2022-03-05T05:58:03.786905Z",
     "start_time": "2022-03-05T05:58:03.771Z"
    }
   },
   "outputs": [],
   "source": [
    "cori_colors <- c(\n",
    "    `Emerald` = \"#018362\", `Bright Mint` = \"#A3E1B5\",\n",
    "    `Bright Gold` = \"#FFE474\",\n",
    "    `RIN Orange` = \"#E64F2B\", `Mid Orange` = \"#FA804B\",`Light Orange` = \"#FECEB8\",\n",
    "    `RIN Blue` = \"#234FBF\", `Mid Blue` = \"#3E80EA\", `Light Blue` = \"#B4CEF9\",\n",
    "    `RII Purple` = \"#48326A\", `Mid Purple` = \"#7658A2\", `Light Purple` = \"#CBBEDC\",\n",
    "    `CIF Mid Blue` = \"#02BCCB\"\n",
    ")\n"
   ]
  },
  {
   "cell_type": "code",
   "execution_count": 8,
   "id": "08d10f6c",
   "metadata": {
    "ExecuteTime": {
     "end_time": "2022-03-05T05:58:04.298835Z",
     "start_time": "2022-03-05T05:58:04.287Z"
    }
   },
   "outputs": [],
   "source": [
    "#' Function to extract cori_ctg7 colors as hex codes\n",
    "#'\n",
    "#' @param ... Character names of cori_ctg7 colors \n",
    "#'\n",
    "cori_cols <- function(...) {\n",
    "  cols <- c(...)\n",
    "\n",
    "  if (is.null(cols))\n",
    "    return (cori_colors)\n",
    "\n",
    "  cori_colors[cols]\n",
    "}"
   ]
  },
  {
   "cell_type": "code",
   "execution_count": 10,
   "id": "77498383",
   "metadata": {
    "ExecuteTime": {
     "end_time": "2022-03-05T05:58:12.915946Z",
     "start_time": "2022-03-05T05:58:12.902Z"
    }
   },
   "outputs": [],
   "source": [
    "cori_palettes <- list(\n",
    "    'ctg2gn' = cori_cols(\"Emerald\", \"Bright Mint\"),\n",
    "    'ctg2or' = cori_cols(\"RIN Orange\", \"Light Orange\"),\n",
    "    'ctg2pu' = cori_cols(\"RII Purple\", \"Light Purple\"),\n",
    "    'ctg2bu' = cori_cols(\"RIN Blue\", \"Light Blue\"),\n",
    "    'ctg7' = cori_cols(\"Emerald\", \"Bright Mint\", \"Bright Gold\", \"Mid Orange\", \"Mid Blue\", \"Mid Purple\", \"CIF Mid Blue\")\n",
    ")"
   ]
  },
  {
   "cell_type": "code",
   "execution_count": 11,
   "id": "537697ea",
   "metadata": {
    "ExecuteTime": {
     "end_time": "2022-03-05T05:58:13.735435Z",
     "start_time": "2022-03-05T05:58:13.723Z"
    }
   },
   "outputs": [],
   "source": [
    "#' Return function to interpolate a cori color palette\n",
    "#'\n",
    "#' @param palette Character name of palette in cori_palettes\n",
    "#' @param reverse Boolean indicating whether the palette should be reversed\n",
    "#' @param ... Additional arguments to pass to colorRampPalette()\n",
    "#'\n",
    "cori_pal <- function(palette = \"ctg2gn\", reverse = FALSE, ...) {\n",
    "  pal <- cori_palettes[[palette]]\n",
    "\n",
    "  if (reverse) pal <- rev(pal)\n",
    "\n",
    "  colorRampPalette(pal, ...)\n",
    "}"
   ]
  },
  {
   "cell_type": "code",
   "execution_count": 16,
   "id": "6e7e26a0",
   "metadata": {
    "ExecuteTime": {
     "end_time": "2022-03-05T06:03:26.249583Z",
     "start_time": "2022-03-05T06:03:26.234Z"
    }
   },
   "outputs": [],
   "source": [
    "#' Color scale constructor for cori colors\n",
    "#'\n",
    "#' @param palette Character name of palette in cori_palettes\n",
    "#' @param discrete Boolean indicating whether color aesthetic is discrete or not\n",
    "#' @param reverse Boolean indicating whether the palette should be reversed\n",
    "#' @param ... Additional arguments passed to discrete_scale() or\n",
    "#'            scale_color_gradientn(), used respectively when discrete is TRUE or FALSE\n",
    "#'\n",
    "scale_color_cori <- function(palette = \"ctg2gn\", discrete = TRUE, reverse = FALSE, ...) {\n",
    "  pal <- cori_pal(palette = palette, reverse = reverse)\n",
    "\n",
    "  if (discrete) {\n",
    "    discrete_scale(\"colour\", paste0(\"cori_\", palette), palette = pal, ...)\n",
    "  } else {\n",
    "    scale_color_gradientn(colours = pal(256), ...)\n",
    "  }\n",
    "}\n",
    "\n",
    "#' Fill scale constructor for cori colors\n",
    "#'\n",
    "#' @param palette Character name of palette in cori_palettes\n",
    "#' @param discrete Boolean indicating whether color aesthetic is discrete or not\n",
    "#' @param reverse Boolean indicating whether the palette should be reversed\n",
    "#' @param ... Additional arguments passed to discrete_scale() or\n",
    "#'            scale_fill_gradientn(), used respectively when discrete is TRUE or FALSE\n",
    "#'\n",
    "scale_fill_cori <- function(palette = \"ctg2gn\", discrete = TRUE, reverse = FALSE, ...) {\n",
    "  pal <- cori_pal(palette = palette, reverse = reverse)\n",
    "\n",
    "  if (discrete) {\n",
    "    discrete_scale(\"fill\", paste0(\"cori_\", palette), palette = pal, ...)\n",
    "  } else {\n",
    "    scale_fill_gradientn(colours = pal(256), ...)\n",
    "  }\n",
    "}"
   ]
  },
  {
   "cell_type": "code",
   "execution_count": null,
   "id": "fb8c723e",
   "metadata": {},
   "outputs": [],
   "source": []
  }
 ],
 "metadata": {
  "kernelspec": {
   "display_name": "R",
   "language": "R",
   "name": "ir"
  },
  "language_info": {
   "codemirror_mode": "r",
   "file_extension": ".r",
   "mimetype": "text/x-r-source",
   "name": "R",
   "pygments_lexer": "r",
   "version": "4.1.2"
  },
  "toc": {
   "base_numbering": 1,
   "nav_menu": {},
   "number_sections": false,
   "sideBar": true,
   "skip_h1_title": false,
   "title_cell": "Table of Contents",
   "title_sidebar": "Contents",
   "toc_cell": false,
   "toc_position": {},
   "toc_section_display": true,
   "toc_window_display": false
  }
 },
 "nbformat": 4,
 "nbformat_minor": 5
}
