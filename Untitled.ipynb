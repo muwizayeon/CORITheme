{
 "cells": [
  {
   "cell_type": "code",
   "execution_count": 15,
   "id": "06b6f795",
   "metadata": {
    "ExecuteTime": {
     "end_time": "2022-03-04T18:39:12.230216Z",
     "start_time": "2022-03-04T18:39:12.217Z"
    }
   },
   "outputs": [],
   "source": [
    "library(devtools)"
   ]
  },
  {
   "cell_type": "code",
   "execution_count": 2,
   "id": "e1b392ff",
   "metadata": {
    "ExecuteTime": {
     "end_time": "2022-03-04T18:12:10.386426Z",
     "start_time": "2022-03-04T18:12:10.029Z"
    }
   },
   "outputs": [
    {
     "name": "stderr",
     "output_type": "stream",
     "text": [
      "\u001b[32m✔\u001b[39m Setting active project to \u001b[34m'/Users/muwizayeon/Library/Mobile Documents/com~apple~CloudDocs/2022/map48/CORITheme'\u001b[39m\n",
      "\u001b[32m✔\u001b[39m Initialising Git repo\n",
      "\u001b[32m✔\u001b[39m Adding \u001b[34m'.Rproj.user'\u001b[39m, \u001b[34m'.Rhistory'\u001b[39m, \u001b[34m'.Rdata'\u001b[39m, \u001b[34m'.httr-oauth'\u001b[39m, \u001b[34m'.DS_Store'\u001b[39m to \u001b[34m'.gitignore'\u001b[39m\n"
     ]
    }
   ],
   "source": [
    "use_git()"
   ]
  },
  {
   "cell_type": "code",
   "execution_count": 3,
   "id": "54ef3f7c",
   "metadata": {
    "ExecuteTime": {
     "end_time": "2022-03-04T18:15:37.212778Z",
     "start_time": "2022-03-04T18:15:37.172Z"
    }
   },
   "outputs": [
    {
     "name": "stderr",
     "output_type": "stream",
     "text": [
      "\u001b[31m•\u001b[39m Edit \u001b[34m'R/strsplit1.R'\u001b[39m\n",
      "\u001b[31m•\u001b[39m Call \u001b[90m`use_test()`\u001b[39m to create a matching test file\n"
     ]
    }
   ],
   "source": [
    "use_r(\"strsplit1\")"
   ]
  },
  {
   "cell_type": "code",
   "execution_count": 16,
   "id": "1c2d7504",
   "metadata": {
    "ExecuteTime": {
     "end_time": "2022-03-04T18:39:18.223951Z",
     "start_time": "2022-03-04T18:39:18.071Z"
    }
   },
   "outputs": [
    {
     "name": "stderr",
     "output_type": "stream",
     "text": [
      "\u001b[36mℹ\u001b[39m Loading \u001b[34m\u001b[34mCORITheme\u001b[34m\u001b[39m\n",
      "\n"
     ]
    }
   ],
   "source": [
    "load_all()"
   ]
  },
  {
   "cell_type": "code",
   "execution_count": 5,
   "id": "0a14273e",
   "metadata": {
    "ExecuteTime": {
     "end_time": "2022-03-04T18:18:53.588017Z",
     "start_time": "2022-03-04T18:18:53.576Z"
    }
   },
   "outputs": [],
   "source": [
    "x <- \"alfa,bravo,charlie,delta\""
   ]
  },
  {
   "cell_type": "code",
   "execution_count": 6,
   "id": "26899b0c",
   "metadata": {
    "ExecuteTime": {
     "end_time": "2022-03-04T18:19:04.401937Z",
     "start_time": "2022-03-04T18:19:04.384Z"
    }
   },
   "outputs": [
    {
     "data": {
      "text/html": [
       "<style>\n",
       ".list-inline {list-style: none; margin:0; padding: 0}\n",
       ".list-inline>li {display: inline-block}\n",
       ".list-inline>li:not(:last-child)::after {content: \"\\00b7\"; padding: 0 .5ex}\n",
       "</style>\n",
       "<ol class=list-inline><li>'alfa'</li><li>'bravo'</li><li>'charlie'</li><li>'delta'</li></ol>\n"
      ],
      "text/latex": [
       "\\begin{enumerate*}\n",
       "\\item 'alfa'\n",
       "\\item 'bravo'\n",
       "\\item 'charlie'\n",
       "\\item 'delta'\n",
       "\\end{enumerate*}\n"
      ],
      "text/markdown": [
       "1. 'alfa'\n",
       "2. 'bravo'\n",
       "3. 'charlie'\n",
       "4. 'delta'\n",
       "\n",
       "\n"
      ],
      "text/plain": [
       "[1] \"alfa\"    \"bravo\"   \"charlie\" \"delta\"  "
      ]
     },
     "metadata": {},
     "output_type": "display_data"
    }
   ],
   "source": [
    "strsplit1(x, split = \",\")"
   ]
  },
  {
   "cell_type": "code",
   "execution_count": 7,
   "id": "60bb3e3c",
   "metadata": {
    "ExecuteTime": {
     "end_time": "2022-03-04T18:20:26.650818Z",
     "start_time": "2022-03-04T18:20:13.281Z"
    },
    "scrolled": false
   },
   "outputs": [
    {
     "name": "stderr",
     "output_type": "stream",
     "text": [
      "\u001b[36mℹ\u001b[39m Updating \u001b[34m\u001b[34mCORITheme\u001b[34m\u001b[39m documentation\n",
      "\n",
      "\u001b[36mℹ\u001b[39m Loading \u001b[34m\u001b[34mCORITheme\u001b[34m\u001b[39m\n",
      "\n"
     ]
    },
    {
     "name": "stdout",
     "output_type": "stream",
     "text": [
      "\u001b[36m──\u001b[39m \u001b[36mBuilding\u001b[39m \u001b[36m─────────────────────────────────────────────────────────────────────────────────────────────────────────────────────────────────────────────────────────────────────────────────────\u001b[39m \u001b[36mCORITheme\u001b[39m \u001b[36m──\u001b[39m\n",
      "\u001b[90mSetting env vars:\u001b[39m\n",
      "• \u001b[90mCFLAGS    : -Wall -pedantic -fdiagnostics-color=always\u001b[39m\n",
      "• \u001b[90mCXXFLAGS  : -Wall -pedantic -fdiagnostics-color=always\u001b[39m\n",
      "• \u001b[90mCXX11FLAGS: -Wall -pedantic -fdiagnostics-color=always\u001b[39m\n",
      "• \u001b[90mCXX14FLAGS: -Wall -pedantic -fdiagnostics-color=always\u001b[39m\n",
      "• \u001b[90mCXX17FLAGS: -Wall -pedantic -fdiagnostics-color=always\u001b[39m\n",
      "• \u001b[90mCXX20FLAGS: -Wall -pedantic -fdiagnostics-color=always\u001b[39m\n",
      "\u001b[36m──────────────────────────────────────────────────────────────────────────────────────────────────────────────────────────────────────────────────────────────────────────────────────────────────────────────\u001b[39m\n",
      "\u001b[32m✔\u001b[39m  \u001b[90mchecking for file ‘/Users/muwizayeon/Library/Mobile Documents/com~apple~CloudDocs/2022/map48/CORITheme/DESCRIPTION’\u001b[39m\u001b[36m\u001b[39m\n",
      "\u001b[90m─\u001b[39m\u001b[90m  \u001b[39m\u001b[90mpreparing ‘CORITheme’:\u001b[39m\u001b[36m\u001b[39m\n",
      "\u001b[32m✔\u001b[39m  \u001b[90mchecking DESCRIPTION meta-information\u001b[39m\u001b[36m\u001b[39m\n",
      "\u001b[90m─\u001b[39m\u001b[90m  \u001b[39m\u001b[90mchecking for LF line-endings in source and make files and shell scripts\u001b[39m\u001b[36m\u001b[39m\n",
      "\u001b[90m─\u001b[39m\u001b[90m  \u001b[39m\u001b[90mchecking for empty or unneeded directories\u001b[39m\u001b[36m\u001b[39m\n",
      "   Removed empty directory ‘CORITheme/man’\n",
      "\u001b[90m─\u001b[39m\u001b[90m  \u001b[39m\u001b[90mbuilding ‘CORITheme_0.0.0.9000.tar.gz’\u001b[39m\u001b[36m\u001b[39m\n",
      "   \n",
      "\u001b[36m──\u001b[39m \u001b[36mChecking\u001b[39m \u001b[36m─────────────────────────────────────────────────────────────────────────────────────────────────────────────────────────────────────────────────────────────────────────────────────\u001b[39m \u001b[36mCORITheme\u001b[39m \u001b[36m──\u001b[39m\n",
      "\u001b[90mSetting env vars:\u001b[39m\n",
      "• \u001b[90m_R_CHECK_CRAN_INCOMING_USE_ASPELL_: TRUE\u001b[39m\n",
      "• \u001b[90m_R_CHECK_CRAN_INCOMING_REMOTE_    : FALSE\u001b[39m\n",
      "• \u001b[90m_R_CHECK_CRAN_INCOMING_           : FALSE\u001b[39m\n",
      "• \u001b[90m_R_CHECK_FORCE_SUGGESTS_          : FALSE\u001b[39m\n",
      "• \u001b[90mNOT_CRAN                          : true\u001b[39m\n",
      "\u001b[36m── R CMD check ───────────────────────────────────────────────────────────────────────────────────────────────────────────────────────────────────────────────────────────────────────────────────────────────\u001b[39m\n",
      "\u001b[90m─\u001b[39m\u001b[90m  \u001b[39m\u001b[90musing log directory ‘/private/var/folders/k9/yd_rcn4d6hb0rs2jyh81q7r80000gn/T/RtmpptVa12/CORITheme.Rcheck’\u001b[39m\u001b[36m\u001b[39m\n",
      "\u001b[90m─\u001b[39m\u001b[90m  \u001b[39m\u001b[90musing R version 4.1.2 (2021-11-01)\u001b[39m\u001b[36m\u001b[39m\n",
      "\u001b[90m─\u001b[39m\u001b[90m  \u001b[39m\u001b[90musing platform: x86_64-apple-darwin17.0 (64-bit)\u001b[39m\u001b[36m\u001b[39m\n",
      "\u001b[90m─\u001b[39m\u001b[90m  \u001b[39m\u001b[90musing session charset: UTF-8\u001b[39m\u001b[36m\u001b[39m\n",
      "\u001b[90m─\u001b[39m\u001b[90m  \u001b[39m\u001b[90musing options ‘--no-manual --as-cran’\u001b[39m\u001b[36m\u001b[39m\n",
      "\u001b[32m✔\u001b[39m  \u001b[90mchecking for file ‘CORITheme/DESCRIPTION’\u001b[39m\u001b[36m\u001b[39m\n",
      "\u001b[90m─\u001b[39m\u001b[90m  \u001b[39m\u001b[90mthis is package ‘CORITheme’ version ‘0.0.0.9000’\u001b[39m\u001b[36m\u001b[39m\n",
      "\u001b[90m─\u001b[39m\u001b[90m  \u001b[39m\u001b[90mpackage encoding: UTF-8\u001b[39m\u001b[36m\u001b[39m\n",
      "\u001b[32m✔\u001b[39m  \u001b[90mchecking package namespace information\u001b[39m\u001b[36m\u001b[39m\n",
      "\u001b[32m✔\u001b[39m  \u001b[90mchecking package dependencies\u001b[39m\u001b[36m\u001b[36m (2.7s)\u001b[36m\u001b[39m\n",
      "\u001b[32m✔\u001b[39m  \u001b[90mchecking if this is a source package\u001b[39m\u001b[36m\u001b[39m\n",
      "\u001b[32m✔\u001b[39m  \u001b[90mchecking if there is a namespace\u001b[39m\u001b[36m\u001b[39m\n",
      "\u001b[32m✔\u001b[39m  \u001b[90mchecking for executable files\u001b[39m\u001b[36m\u001b[39m\n",
      "\u001b[34mN  \u001b[39m\u001b[34mchecking for hidden files and directories\u001b[39m\u001b[36m\u001b[39m\n",
      "   Found the following hidden files and directories:\n",
      "     .ipynb_checkpoints\n",
      "   These were most likely included in error. See section ‘Package\n",
      "   structure’ in the ‘Writing R Extensions’ manual.\n",
      "\u001b[32m✔\u001b[39m  \u001b[90mchecking for portable file names\u001b[39m\u001b[36m\u001b[39m\n",
      "\u001b[32m✔\u001b[39m  \u001b[90mchecking for sufficient/correct file permissions\u001b[39m\u001b[36m\u001b[39m\n",
      "\u001b[32m✔\u001b[39m  \u001b[90mchecking serialization versions\u001b[39m\u001b[36m\u001b[39m\n",
      "\u001b[32m✔\u001b[39m  \u001b[90mchecking whether package ‘CORITheme’ can be installed\u001b[39m\u001b[36m\u001b[36m (1.5s)\u001b[36m\u001b[39m\n",
      "\u001b[32m✔\u001b[39m  \u001b[90mchecking installed package size\u001b[39m\u001b[36m\u001b[39m\n",
      "\u001b[32m✔\u001b[39m  \u001b[90mchecking package directory\u001b[39m\u001b[36m\u001b[39m\n",
      "\u001b[32m✔\u001b[39m  \u001b[90mchecking for future file timestamps\u001b[39m\u001b[36m\u001b[39m\n",
      "\u001b[35mW  \u001b[39m\u001b[35mchecking DESCRIPTION meta-information\u001b[39m\u001b[36m\u001b[39m\n",
      "   Non-standard license specification:\n",
      "     `use_mit_license()`, `use_gpl3_license()` or friends to pick a\n",
      "     license\n",
      "   Standardizable: FALSE\n",
      "\u001b[34mN  \u001b[39m\u001b[34mchecking top-level files\u001b[39m\u001b[36m\u001b[39m\n",
      "   Non-standard file/directory found at top level:\n",
      "     ‘Untitled.ipynb’\n",
      "\u001b[32m✔\u001b[39m  \u001b[90mchecking for left-over files\u001b[39m\u001b[36m\u001b[39m\n",
      "\u001b[32m✔\u001b[39m  \u001b[90mchecking index information\u001b[39m\u001b[36m\u001b[39m\n",
      "\u001b[32m✔\u001b[39m  \u001b[90mchecking package subdirectories\u001b[39m\u001b[36m\u001b[39m\n",
      "\u001b[32m✔\u001b[39m  \u001b[90mchecking R files for non-ASCII characters\u001b[39m\u001b[36m\u001b[39m\n",
      "\u001b[32m✔\u001b[39m  \u001b[90mchecking R files for syntax errors\u001b[39m\u001b[36m\u001b[39m\n",
      "\u001b[32m✔\u001b[39m  \u001b[90mchecking whether the package can be loaded\u001b[39m\u001b[36m\u001b[39m\n",
      "\u001b[32m✔\u001b[39m  \u001b[90mchecking whether the package can be loaded with stated dependencies\u001b[39m\u001b[36m\u001b[39m\n",
      "\u001b[32m✔\u001b[39m  \u001b[90mchecking whether the package can be unloaded cleanly\u001b[39m\u001b[36m\u001b[39m\n",
      "\u001b[32m✔\u001b[39m  \u001b[90mchecking whether the namespace can be loaded with stated dependencies\u001b[39m\u001b[36m\u001b[39m\n",
      "\u001b[32m✔\u001b[39m  \u001b[90mchecking whether the namespace can be unloaded cleanly\u001b[39m\u001b[36m\u001b[39m\n",
      "\u001b[32m✔\u001b[39m  \u001b[90mchecking loading without being on the library search path\u001b[39m\u001b[36m\u001b[39m\n",
      "\u001b[32m✔\u001b[39m  \u001b[90mchecking dependencies in R code\u001b[39m\u001b[36m\u001b[39m\n",
      "\u001b[32m✔\u001b[39m  \u001b[90mchecking S3 generic/method consistency\u001b[39m\u001b[36m\u001b[36m (528ms)\u001b[36m\u001b[39m\n",
      "\u001b[32m✔\u001b[39m  \u001b[90mchecking replacement functions\u001b[39m\u001b[36m\u001b[39m\n",
      "\u001b[32m✔\u001b[39m  \u001b[90mchecking foreign function calls\u001b[39m\u001b[36m\u001b[39m\n",
      "\u001b[32m✔\u001b[39m  \u001b[90mchecking R code for possible problems\u001b[39m\u001b[36m\u001b[36m (2.5s)\u001b[36m\u001b[39m\n",
      "\u001b[32m✔\u001b[39m  \u001b[90mchecking for missing documentation entries\u001b[39m\u001b[36m\u001b[39m\n",
      "\u001b[90m─\u001b[39m\u001b[90m  \u001b[39m\u001b[90mchecking examples ... NONE\u001b[39m\u001b[36m\u001b[39m\n",
      "\u001b[32m✔\u001b[39m  \u001b[90mchecking for non-standard things in the check directory\u001b[39m\u001b[36m\u001b[39m\n",
      "\u001b[32m✔\u001b[39m  \u001b[90mchecking for detritus in the temp directory\u001b[39m\u001b[36m\u001b[39m\n",
      "   \n",
      "   See\n",
      "     ‘/private/var/folders/k9/yd_rcn4d6hb0rs2jyh81q7r80000gn/T/RtmpptVa12/CORITheme.Rcheck/00check.log’\n",
      "   for details.\n",
      "   \n",
      "   \n",
      "\u001b[36m── R CMD check results ───────────────────────────────────────────────────────────────────────────────────────────────────────────────────────────────────────────────────────────── CORITheme 0.0.0.9000 ────\u001b[39m\n",
      "Duration: 10.8s\n",
      "\n",
      "\u001b[35m❯ checking DESCRIPTION meta-information ... WARNING\u001b[39m\n",
      "  Non-standard license specification:\n",
      "    `use_mit_license()`, `use_gpl3_license()` or friends to pick a\n",
      "    license\n",
      "  Standardizable: FALSE\n",
      "\n",
      "\u001b[34m❯ checking for hidden files and directories ... NOTE\u001b[39m\n",
      "  Found the following hidden files and directories:\n",
      "    .ipynb_checkpoints\n",
      "  These were most likely included in error. See section ‘Package\n",
      "  structure’ in the ‘Writing R Extensions’ manual.\n",
      "\n",
      "\u001b[34m❯ checking top-level files ... NOTE\u001b[39m\n",
      "  Non-standard file/directory found at top level:\n",
      "    ‘Untitled.ipynb’\n",
      "\n",
      "\u001b[32m0 errors ✔\u001b[39m | \u001b[31m1 warning ✖\u001b[39m | \u001b[31m2 notes ✖\u001b[39m\n"
     ]
    },
    {
     "ename": "ERROR",
     "evalue": "Error: R CMD check found WARNINGs\n",
     "output_type": "error",
     "traceback": [
      "Error: R CMD check found WARNINGs\nTraceback:\n",
      "1. check()",
      "2. check_built(built_path, cran = cran, remote = remote, incoming = incoming, \n .     force_suggests = force_suggests, run_dont_test = run_dont_test, \n .     manual = manual, args = args, env_vars = env_vars, quiet = quiet, \n .     check_dir = check_dir, error_on = error_on)",
      "3. withr::with_envvar(env_vars, action = \"replace\", {\n .     rcmdcheck::rcmdcheck(path, quiet = quiet, args = args, check_dir = check_dir, \n .         error_on = error_on)\n . })",
      "4. force(code)",
      "5. rcmdcheck::rcmdcheck(path, quiet = quiet, args = args, check_dir = check_dir, \n .     error_on = error_on)",
      "6. handle_error_on(res, error_on)"
     ]
    }
   ],
   "source": [
    "check()"
   ]
  },
  {
   "cell_type": "code",
   "execution_count": 8,
   "id": "68fbaf7a",
   "metadata": {
    "ExecuteTime": {
     "end_time": "2022-03-04T18:29:38.028708Z",
     "start_time": "2022-03-04T18:29:37.897Z"
    }
   },
   "outputs": [
    {
     "name": "stderr",
     "output_type": "stream",
     "text": [
      "\u001b[32m✔\u001b[39m Setting \u001b[32mLicense\u001b[39m field in DESCRIPTION to \u001b[34m'MIT + file LICENSE'\u001b[39m\n",
      "\u001b[32m✔\u001b[39m Writing \u001b[34m'LICENSE'\u001b[39m\n",
      "\u001b[32m✔\u001b[39m Writing \u001b[34m'LICENSE.md'\u001b[39m\n",
      "\u001b[32m✔\u001b[39m Adding \u001b[34m'^LICENSE\\\\.md$'\u001b[39m to \u001b[34m'.Rbuildignore'\u001b[39m\n"
     ]
    }
   ],
   "source": [
    "use_mit_license()"
   ]
  },
  {
   "cell_type": "code",
   "execution_count": 22,
   "id": "a58b8a61",
   "metadata": {
    "ExecuteTime": {
     "end_time": "2022-03-04T18:48:11.876835Z",
     "start_time": "2022-03-04T18:48:11.560Z"
    }
   },
   "outputs": [
    {
     "name": "stderr",
     "output_type": "stream",
     "text": [
      "\u001b[36mℹ\u001b[39m Updating \u001b[34m\u001b[34mCORITheme\u001b[34m\u001b[39m documentation\n",
      "\n",
      "\u001b[36mℹ\u001b[39m Loading \u001b[34m\u001b[34mCORITheme\u001b[34m\u001b[39m\n",
      "\n"
     ]
    },
    {
     "name": "stdout",
     "output_type": "stream",
     "text": [
      "Writing NAMESPACE\n",
      "Writing strsplit1.Rd\n"
     ]
    }
   ],
   "source": [
    "document()"
   ]
  },
  {
   "cell_type": "code",
   "execution_count": 23,
   "id": "1ec6ad68",
   "metadata": {
    "ExecuteTime": {
     "end_time": "2022-03-04T18:48:28.124201Z",
     "start_time": "2022-03-04T18:48:28.032Z"
    }
   },
   "outputs": [
    {
     "name": "stderr",
     "output_type": "stream",
     "text": [
      "\u001b[36mℹ\u001b[39m Rendering development documentation for \u001b[34m\u001b[34m\"strsplit1\"\u001b[34m\u001b[39m\n",
      "\n"
     ]
    }
   ],
   "source": [
    "?strsplit1"
   ]
  },
  {
   "cell_type": "code",
   "execution_count": 25,
   "id": "455bef1d",
   "metadata": {
    "ExecuteTime": {
     "end_time": "2022-03-04T18:51:52.930807Z",
     "start_time": "2022-03-04T18:51:37.810Z"
    },
    "scrolled": false
   },
   "outputs": [
    {
     "name": "stderr",
     "output_type": "stream",
     "text": [
      "\u001b[36mℹ\u001b[39m Updating \u001b[34m\u001b[34mCORITheme\u001b[34m\u001b[39m documentation\n",
      "\n",
      "\u001b[36mℹ\u001b[39m Loading \u001b[34m\u001b[34mCORITheme\u001b[34m\u001b[39m\n",
      "\n"
     ]
    },
    {
     "name": "stdout",
     "output_type": "stream",
     "text": [
      "Writing NAMESPACE\n",
      "Writing NAMESPACE\n",
      "\u001b[36m──\u001b[39m \u001b[36mBuilding\u001b[39m \u001b[36m─────────────────────────────────────────────────────────────────────────────────────────────────────────────────────────────────────────────────────────────────────────────────────\u001b[39m \u001b[36mCORITheme\u001b[39m \u001b[36m──\u001b[39m\n",
      "\u001b[90mSetting env vars:\u001b[39m\n",
      "• \u001b[90mCFLAGS    : -Wall -pedantic -fdiagnostics-color=always\u001b[39m\n",
      "• \u001b[90mCXXFLAGS  : -Wall -pedantic -fdiagnostics-color=always\u001b[39m\n",
      "• \u001b[90mCXX11FLAGS: -Wall -pedantic -fdiagnostics-color=always\u001b[39m\n",
      "• \u001b[90mCXX14FLAGS: -Wall -pedantic -fdiagnostics-color=always\u001b[39m\n",
      "• \u001b[90mCXX17FLAGS: -Wall -pedantic -fdiagnostics-color=always\u001b[39m\n",
      "• \u001b[90mCXX20FLAGS: -Wall -pedantic -fdiagnostics-color=always\u001b[39m\n",
      "\u001b[36m──────────────────────────────────────────────────────────────────────────────────────────────────────────────────────────────────────────────────────────────────────────────────────────────────────────────\u001b[39m\n",
      "\u001b[32m✔\u001b[39m  \u001b[90mchecking for file ‘/Users/muwizayeon/Library/Mobile Documents/com~apple~CloudDocs/2022/map48/CORITheme/DESCRIPTION’\u001b[39m\u001b[36m\u001b[39m\n",
      "\u001b[90m─\u001b[39m\u001b[90m  \u001b[39m\u001b[90mpreparing ‘CORITheme’:\u001b[39m\u001b[36m\u001b[39m\n",
      "\u001b[32m✔\u001b[39m  \u001b[90mchecking DESCRIPTION meta-information\u001b[39m\u001b[36m\u001b[39m\n",
      "\u001b[90m─\u001b[39m\u001b[90m  \u001b[39m\u001b[90mchecking for LF line-endings in source and make files and shell scripts\u001b[39m\u001b[36m\u001b[39m\n",
      "\u001b[90m─\u001b[39m\u001b[90m  \u001b[39m\u001b[90mchecking for empty or unneeded directories\u001b[39m\u001b[36m\u001b[39m\n",
      "\u001b[90m─\u001b[39m\u001b[90m  \u001b[39m\u001b[90mbuilding ‘CORITheme_0.0.0.9000.tar.gz’\u001b[39m\u001b[36m\u001b[39m\n",
      "   \n",
      "\u001b[36m──\u001b[39m \u001b[36mChecking\u001b[39m \u001b[36m─────────────────────────────────────────────────────────────────────────────────────────────────────────────────────────────────────────────────────────────────────────────────────\u001b[39m \u001b[36mCORITheme\u001b[39m \u001b[36m──\u001b[39m\n",
      "\u001b[90mSetting env vars:\u001b[39m\n",
      "• \u001b[90m_R_CHECK_CRAN_INCOMING_USE_ASPELL_: TRUE\u001b[39m\n",
      "• \u001b[90m_R_CHECK_CRAN_INCOMING_REMOTE_    : FALSE\u001b[39m\n",
      "• \u001b[90m_R_CHECK_CRAN_INCOMING_           : FALSE\u001b[39m\n",
      "• \u001b[90m_R_CHECK_FORCE_SUGGESTS_          : FALSE\u001b[39m\n",
      "• \u001b[90mNOT_CRAN                          : true\u001b[39m\n",
      "\u001b[36m── R CMD check ───────────────────────────────────────────────────────────────────────────────────────────────────────────────────────────────────────────────────────────────────────────────────────────────\u001b[39m\n",
      "\u001b[90m─\u001b[39m\u001b[90m  \u001b[39m\u001b[90musing log directory ‘/private/var/folders/k9/yd_rcn4d6hb0rs2jyh81q7r80000gn/T/RtmpptVa12/CORITheme.Rcheck’\u001b[39m\u001b[36m\u001b[36m (338ms)\u001b[36m\u001b[39m\n",
      "\u001b[90m─\u001b[39m\u001b[90m  \u001b[39m\u001b[90musing R version 4.1.2 (2021-11-01)\u001b[39m\u001b[36m\u001b[39m\n",
      "\u001b[90m─\u001b[39m\u001b[90m  \u001b[39m\u001b[90musing platform: x86_64-apple-darwin17.0 (64-bit)\u001b[39m\u001b[36m\u001b[39m\n",
      "\u001b[90m─\u001b[39m\u001b[90m  \u001b[39m\u001b[90musing session charset: UTF-8\u001b[39m\u001b[36m\u001b[39m\n",
      "\u001b[90m─\u001b[39m\u001b[90m  \u001b[39m\u001b[90musing options ‘--no-manual --as-cran’\u001b[39m\u001b[36m\u001b[39m\n",
      "\u001b[32m✔\u001b[39m  \u001b[90mchecking for file ‘CORITheme/DESCRIPTION’\u001b[39m\u001b[36m\u001b[39m\n",
      "\u001b[90m─\u001b[39m\u001b[90m  \u001b[39m\u001b[90mthis is package ‘CORITheme’ version ‘0.0.0.9000’\u001b[39m\u001b[36m\u001b[39m\n",
      "\u001b[90m─\u001b[39m\u001b[90m  \u001b[39m\u001b[90mpackage encoding: UTF-8\u001b[39m\u001b[36m\u001b[39m\n",
      "\u001b[32m✔\u001b[39m  \u001b[90mchecking package namespace information\u001b[39m\u001b[36m\u001b[39m\n",
      "\u001b[32m✔\u001b[39m  \u001b[90mchecking package dependencies\u001b[39m\u001b[36m\u001b[36m (3.1s)\u001b[36m\u001b[39m\n",
      "\u001b[32m✔\u001b[39m  \u001b[90mchecking if this is a source package\u001b[39m\u001b[36m\u001b[39m\n",
      "\u001b[32m✔\u001b[39m  \u001b[90mchecking if there is a namespace\u001b[39m\u001b[36m\u001b[39m\n",
      "\u001b[32m✔\u001b[39m  \u001b[90mchecking for executable files\u001b[39m\u001b[36m\u001b[39m\n",
      "\u001b[34mN  \u001b[39m\u001b[34mchecking for hidden files and directories\u001b[39m\u001b[36m\u001b[39m\n",
      "   Found the following hidden files and directories:\n",
      "     .ipynb_checkpoints\n",
      "   These were most likely included in error. See section ‘Package\n",
      "   structure’ in the ‘Writing R Extensions’ manual.\n",
      "\u001b[32m✔\u001b[39m  \u001b[90mchecking for portable file names\u001b[39m\u001b[36m\u001b[39m\n",
      "\u001b[32m✔\u001b[39m  \u001b[90mchecking for sufficient/correct file permissions\u001b[39m\u001b[36m\u001b[39m\n",
      "\u001b[32m✔\u001b[39m  \u001b[90mchecking serialization versions\u001b[39m\u001b[36m\u001b[39m\n",
      "\u001b[32m✔\u001b[39m  \u001b[90mchecking whether package ‘CORITheme’ can be installed\u001b[39m\u001b[36m\u001b[36m (1.5s)\u001b[36m\u001b[39m\n",
      "\u001b[32m✔\u001b[39m  \u001b[90mchecking installed package size\u001b[39m\u001b[36m\u001b[39m\n",
      "\u001b[32m✔\u001b[39m  \u001b[90mchecking package directory\u001b[39m\u001b[36m\u001b[39m\n",
      "\u001b[32m✔\u001b[39m  \u001b[90mchecking for future file timestamps\u001b[39m\u001b[36m\u001b[39m\n",
      "\u001b[32m✔\u001b[39m  \u001b[90mchecking DESCRIPTION meta-information\u001b[39m\u001b[36m\u001b[39m\n",
      "\u001b[34mN  \u001b[39m\u001b[34mchecking top-level files\u001b[39m\u001b[36m\u001b[39m\n",
      "   Non-standard file/directory found at top level:\n",
      "     ‘Untitled.ipynb’\n",
      "\u001b[32m✔\u001b[39m  \u001b[90mchecking for left-over files\u001b[39m\u001b[36m\u001b[39m\n",
      "\u001b[32m✔\u001b[39m  \u001b[90mchecking index information\u001b[39m\u001b[36m\u001b[39m\n",
      "\u001b[32m✔\u001b[39m  \u001b[90mchecking package subdirectories\u001b[39m\u001b[36m\u001b[39m\n",
      "\u001b[32m✔\u001b[39m  \u001b[90mchecking R files for non-ASCII characters\u001b[39m\u001b[36m\u001b[39m\n",
      "\u001b[32m✔\u001b[39m  \u001b[90mchecking R files for syntax errors\u001b[39m\u001b[36m\u001b[39m\n",
      "\u001b[32m✔\u001b[39m  \u001b[90mchecking whether the package can be loaded\u001b[39m\u001b[36m\u001b[39m\n",
      "\u001b[32m✔\u001b[39m  \u001b[90mchecking whether the package can be loaded with stated dependencies\u001b[39m\u001b[36m\u001b[39m\n",
      "\u001b[32m✔\u001b[39m  \u001b[90mchecking whether the package can be unloaded cleanly\u001b[39m\u001b[36m\u001b[39m\n",
      "\u001b[32m✔\u001b[39m  \u001b[90mchecking whether the namespace can be loaded with stated dependencies\u001b[39m\u001b[36m\u001b[39m\n",
      "\u001b[32m✔\u001b[39m  \u001b[90mchecking whether the namespace can be unloaded cleanly\u001b[39m\u001b[36m\u001b[39m\n",
      "\u001b[32m✔\u001b[39m  \u001b[90mchecking loading without being on the library search path\u001b[39m\u001b[36m\u001b[39m\n",
      "\u001b[32m✔\u001b[39m  \u001b[90mchecking dependencies in R code\u001b[39m\u001b[36m\u001b[39m\n",
      "\u001b[32m✔\u001b[39m  \u001b[90mchecking S3 generic/method consistency\u001b[39m\u001b[36m\u001b[36m (511ms)\u001b[36m\u001b[39m\n",
      "\u001b[32m✔\u001b[39m  \u001b[90mchecking replacement functions\u001b[39m\u001b[36m\u001b[39m\n",
      "\u001b[32m✔\u001b[39m  \u001b[90mchecking foreign function calls\u001b[39m\u001b[36m\u001b[39m\n",
      "\u001b[32m✔\u001b[39m  \u001b[90mchecking R code for possible problems\u001b[39m\u001b[36m\u001b[36m (2.4s)\u001b[36m\u001b[39m\n",
      "\u001b[32m✔\u001b[39m  \u001b[90mchecking Rd files\u001b[39m\u001b[36m\u001b[39m\n",
      "\u001b[32m✔\u001b[39m  \u001b[90mchecking Rd metadata\u001b[39m\u001b[36m\u001b[39m\n",
      "\u001b[32m✔\u001b[39m  \u001b[90mchecking Rd line widths\u001b[39m\u001b[36m\u001b[39m\n",
      "\u001b[32m✔\u001b[39m  \u001b[90mchecking Rd cross-references\u001b[39m\u001b[36m\u001b[39m\n",
      "\u001b[32m✔\u001b[39m  \u001b[90mchecking for missing documentation entries\u001b[39m\u001b[36m\u001b[39m\n",
      "\u001b[32m✔\u001b[39m  \u001b[90mchecking for code/documentation mismatches\u001b[39m\u001b[36m\u001b[36m (506ms)\u001b[36m\u001b[39m\n",
      "\u001b[32m✔\u001b[39m  \u001b[90mchecking Rd \\usage sections\u001b[39m\u001b[36m\u001b[36m (676ms)\u001b[36m\u001b[39m\n",
      "\u001b[32m✔\u001b[39m  \u001b[90mchecking Rd contents\u001b[39m\u001b[36m\u001b[39m\n",
      "\u001b[32m✔\u001b[39m  \u001b[90mchecking for unstated dependencies in examples\u001b[39m\u001b[36m\u001b[39m\n",
      "\u001b[32m✔\u001b[39m  \u001b[90mchecking examples\u001b[39m\u001b[36m\u001b[36m (631ms)\u001b[36m\u001b[39m\n",
      "\u001b[32m✔\u001b[39m  \u001b[90mchecking for non-standard things in the check directory\u001b[39m\u001b[36m\u001b[39m\n",
      "\u001b[32m✔\u001b[39m  \u001b[90mchecking for detritus in the temp directory\u001b[39m\u001b[36m\u001b[39m\n",
      "   \n",
      "   See\n",
      "     ‘/private/var/folders/k9/yd_rcn4d6hb0rs2jyh81q7r80000gn/T/RtmpptVa12/CORITheme.Rcheck/00check.log’\n",
      "   for details.\n",
      "   \n",
      "   \n",
      "\r"
     ]
    },
    {
     "data": {
      "text/plain": [
       "\u001b[36m── R CMD check results ───────────────────────────────────────────────────────────────────────────────────────────────────────────────────────────────────────────────────────────── CORITheme 0.0.0.9000 ────\u001b[39m\n",
       "Duration: 13.4s\n",
       "\n",
       "\u001b[34m❯ checking for hidden files and directories ... NOTE\u001b[39m\n",
       "  Found the following hidden files and directories:\n",
       "    .ipynb_checkpoints\n",
       "  These were most likely included in error. See section ‘Package\n",
       "  structure’ in the ‘Writing R Extensions’ manual.\n",
       "\n",
       "\u001b[34m❯ checking top-level files ... NOTE\u001b[39m\n",
       "  Non-standard file/directory found at top level:\n",
       "    ‘Untitled.ipynb’\n",
       "\n",
       "\u001b[32m0 errors ✔\u001b[39m | \u001b[32m0 warnings ✔\u001b[39m | \u001b[31m2 notes ✖\u001b[39m"
      ]
     },
     "metadata": {},
     "output_type": "display_data"
    }
   ],
   "source": [
    "check()"
   ]
  },
  {
   "cell_type": "code",
   "execution_count": 26,
   "id": "e644b035",
   "metadata": {
    "ExecuteTime": {
     "end_time": "2022-03-04T18:52:47.626667Z",
     "start_time": "2022-03-04T18:52:42.105Z"
    }
   },
   "outputs": [
    {
     "name": "stdout",
     "output_type": "stream",
     "text": [
      "\u001b[32m✔\u001b[39m  \u001b[90mchecking for file ‘/Users/muwizayeon/Library/Mobile Documents/com~apple~CloudDocs/2022/map48/CORITheme/DESCRIPTION’\u001b[39m\u001b[36m\u001b[39m\n",
      "\u001b[90m─\u001b[39m\u001b[90m  \u001b[39m\u001b[90mpreparing ‘CORITheme’:\u001b[39m\u001b[36m\u001b[39m\n",
      "\u001b[32m✔\u001b[39m  \u001b[90mchecking DESCRIPTION meta-information\u001b[39m\u001b[36m\u001b[39m\n",
      "\u001b[90m─\u001b[39m\u001b[90m  \u001b[39m\u001b[90mchecking for LF line-endings in source and make files and shell scripts\u001b[39m\u001b[36m\u001b[39m\n",
      "\u001b[90m─\u001b[39m\u001b[90m  \u001b[39m\u001b[90mchecking for empty or unneeded directories\u001b[39m\u001b[36m\u001b[39m\n",
      "\u001b[90m─\u001b[39m\u001b[90m  \u001b[39m\u001b[90mbuilding ‘CORITheme_0.0.0.9000.tar.gz’\u001b[39m\u001b[36m\u001b[39m\n",
      "   \n",
      "Running /Library/Frameworks/R.framework/Resources/bin/R CMD INSTALL \\\n",
      "  /var/folders/k9/yd_rcn4d6hb0rs2jyh81q7r80000gn/T//RtmpptVa12/CORITheme_0.0.0.9000.tar.gz \\\n",
      "  --install-tests \n",
      "* installing to library ‘/Library/Frameworks/R.framework/Versions/4.1/Resources/library’\n",
      "* installing *source* package ‘CORITheme’ ...\n",
      "** using staged installation\n",
      "** R\n",
      "** byte-compile and prepare package for lazy loading\n",
      "** help\n",
      "*** installing help indices\n",
      "** building package indices\n",
      "** testing if installed package can be loaded from temporary location\n",
      "** testing if installed package can be loaded from final location\n",
      "** testing if installed package keeps a record of temporary installation path\n",
      "* DONE (CORITheme)\n"
     ]
    }
   ],
   "source": [
    "install()"
   ]
  },
  {
   "cell_type": "code",
   "execution_count": 32,
   "id": "f27a35ad",
   "metadata": {
    "ExecuteTime": {
     "end_time": "2022-03-04T19:00:32.459434Z",
     "start_time": "2022-03-04T19:00:32.074Z"
    }
   },
   "outputs": [
    {
     "name": "stderr",
     "output_type": "stream",
     "text": [
      "\u001b[32m✔\u001b[39m Adding \u001b[34m'ggplot2'\u001b[39m to \u001b[32mImports\u001b[39m field in DESCRIPTION\n",
      "\u001b[31m•\u001b[39m Refer to functions with \u001b[90m`ggplot2::fun()`\u001b[39m\n"
     ]
    }
   ],
   "source": [
    "use_package(\"ggplot2\")"
   ]
  },
  {
   "cell_type": "code",
   "execution_count": 28,
   "id": "86eb5808",
   "metadata": {
    "ExecuteTime": {
     "end_time": "2022-03-04T18:59:48.617557Z",
     "start_time": "2022-03-04T18:59:43.804Z"
    }
   },
   "outputs": [
    {
     "name": "stdout",
     "output_type": "stream",
     "text": [
      "\n",
      "The downloaded binary packages are in\n",
      "\t/var/folders/k9/yd_rcn4d6hb0rs2jyh81q7r80000gn/T//RtmpptVa12/downloaded_packages\n"
     ]
    }
   ],
   "source": [
    "install.packages(\"tidyverse\")"
   ]
  },
  {
   "cell_type": "code",
   "execution_count": 34,
   "id": "b81e78ad",
   "metadata": {
    "ExecuteTime": {
     "end_time": "2022-03-04T20:31:25.968384Z",
     "start_time": "2022-03-04T20:31:25.939Z"
    }
   },
   "outputs": [
    {
     "name": "stderr",
     "output_type": "stream",
     "text": [
      "\u001b[32m✔\u001b[39m Initialising Git repo\n"
     ]
    }
   ],
   "source": [
    "use_git()"
   ]
  },
  {
   "cell_type": "code",
   "execution_count": null,
   "id": "49a96455",
   "metadata": {},
   "outputs": [],
   "source": []
  }
 ],
 "metadata": {
  "kernelspec": {
   "display_name": "R",
   "language": "R",
   "name": "ir"
  },
  "language_info": {
   "codemirror_mode": "r",
   "file_extension": ".r",
   "mimetype": "text/x-r-source",
   "name": "R",
   "pygments_lexer": "r",
   "version": "4.1.2"
  },
  "toc": {
   "base_numbering": 1,
   "nav_menu": {},
   "number_sections": false,
   "sideBar": true,
   "skip_h1_title": false,
   "title_cell": "Table of Contents",
   "title_sidebar": "Contents",
   "toc_cell": false,
   "toc_position": {},
   "toc_section_display": true,
   "toc_window_display": false
  }
 },
 "nbformat": 4,
 "nbformat_minor": 5
}
